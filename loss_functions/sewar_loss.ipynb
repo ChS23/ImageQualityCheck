{
 "cells": [
  {
   "cell_type": "code",
   "execution_count": 7,
   "id": "initial_id",
   "metadata": {
    "collapsed": true,
    "ExecuteTime": {
     "end_time": "2024-01-11T18:46:22.048061Z",
     "start_time": "2024-01-11T18:46:20.819696200Z"
    }
   },
   "outputs": [],
   "source": [
    "import torch\n",
    "import matplotlib.pyplot as plt\n",
    "import numpy as np\n",
    "import sewar\n",
    "import sys\n",
    "from torch.utils.data import DataLoader\n",
    "\n",
    "from datasets import TID2013Dataset\n",
    "from utils.compute_loss import compute_loss"
   ]
  },
  {
   "cell_type": "code",
   "execution_count": 2,
   "outputs": [],
   "source": [
    "device = torch.device('cuda' if torch.cuda.is_available() else 'cpu')"
   ],
   "metadata": {
    "collapsed": false,
    "ExecuteTime": {
     "end_time": "2024-01-11T18:45:33.067580300Z",
     "start_time": "2024-01-11T18:45:33.056822100Z"
    }
   },
   "id": "c6ac1e75b599df24"
  },
  {
   "cell_type": "code",
   "execution_count": 3,
   "outputs": [],
   "source": [
    "ROOT_DIR = r'C:\\Users\\c4s23\\YandexDisk\\GitHub\\ImageQualityCheck\\data\\TID2013'"
   ],
   "metadata": {
    "collapsed": false,
    "ExecuteTime": {
     "end_time": "2024-01-11T18:45:33.067580300Z",
     "start_time": "2024-01-11T18:45:33.061564600Z"
    }
   },
   "id": "adb49ed38190d697"
  },
  {
   "cell_type": "code",
   "execution_count": 4,
   "outputs": [],
   "source": [
    "dataset = TID2013Dataset(ROOT_DIR)"
   ],
   "metadata": {
    "collapsed": false,
    "ExecuteTime": {
     "end_time": "2024-01-11T18:45:54.897893200Z",
     "start_time": "2024-01-11T18:45:36.100006800Z"
    }
   },
   "id": "62bd19b51ab62f13"
  },
  {
   "cell_type": "code",
   "execution_count": 5,
   "outputs": [],
   "source": [
    "dataloader = DataLoader(dataset, batch_size=128, shuffle=False)"
   ],
   "metadata": {
    "collapsed": false,
    "ExecuteTime": {
     "end_time": "2024-01-11T18:45:54.995340500Z",
     "start_time": "2024-01-11T18:45:54.964659900Z"
    }
   },
   "id": "6463e2e029cee0cf"
  },
  {
   "cell_type": "code",
   "execution_count": 43,
   "outputs": [],
   "source": [
    "image, ref_image = dataset[0]"
   ],
   "metadata": {
    "collapsed": false,
    "ExecuteTime": {
     "end_time": "2024-01-11T20:08:18.559857400Z",
     "start_time": "2024-01-11T20:08:18.528328900Z"
    }
   },
   "id": "4db68772dff4acda"
  },
  {
   "cell_type": "markdown",
   "source": [
    "MSE"
   ],
   "metadata": {
    "collapsed": false
   },
   "id": "612901b04bd06524"
  },
  {
   "cell_type": "code",
   "execution_count": 44,
   "outputs": [],
   "source": [
    "# to numpy\n",
    "image = image.numpy()\n",
    "ref_image = ref_image.numpy()"
   ],
   "metadata": {
    "collapsed": false,
    "ExecuteTime": {
     "end_time": "2024-01-11T20:08:19.255613300Z",
     "start_time": "2024-01-11T20:08:19.249589Z"
    }
   },
   "id": "18f0a8a2f6cd673d"
  },
  {
   "cell_type": "code",
   "execution_count": 46,
   "outputs": [
    {
     "data": {
      "text/plain": "0.9995073043114449"
     },
     "execution_count": 46,
     "metadata": {},
     "output_type": "execute_result"
    }
   ],
   "source": [
    "1 - sewar.mse(image, ref_image)"
   ],
   "metadata": {
    "collapsed": false,
    "ExecuteTime": {
     "end_time": "2024-01-11T20:08:31.258772500Z",
     "start_time": "2024-01-11T20:08:31.231057Z"
    }
   },
   "id": "f7904f0da1de1b63"
  },
  {
   "cell_type": "markdown",
   "source": [
    "RMSE"
   ],
   "metadata": {
    "collapsed": false
   },
   "id": "e3b8e272b869fd04"
  },
  {
   "cell_type": "code",
   "execution_count": 47,
   "outputs": [
    {
     "data": {
      "text/plain": "0.022196749504266814"
     },
     "execution_count": 47,
     "metadata": {},
     "output_type": "execute_result"
    }
   ],
   "source": [
    "sewar.rmse(image, ref_image)"
   ],
   "metadata": {
    "collapsed": false,
    "ExecuteTime": {
     "end_time": "2024-01-11T20:08:33.310005500Z",
     "start_time": "2024-01-11T20:08:33.291494700Z"
    }
   },
   "id": "289984143c3b025a"
  },
  {
   "cell_type": "code",
   "execution_count": 48,
   "outputs": [
    {
     "data": {
      "text/plain": "0.02219674873430909"
     },
     "execution_count": 48,
     "metadata": {},
     "output_type": "execute_result"
    }
   ],
   "source": [
    "sewar.rmse((image * 255).astype(np.uint8), (ref_image * 255).astype(np.uint8)) / 255"
   ],
   "metadata": {
    "collapsed": false,
    "ExecuteTime": {
     "end_time": "2024-01-11T20:08:34.090629700Z",
     "start_time": "2024-01-11T20:08:34.068841800Z"
    }
   },
   "id": "50a05b1f136073e3"
  },
  {
   "cell_type": "markdown",
   "source": [
    "PSNR"
   ],
   "metadata": {
    "collapsed": false
   },
   "id": "a42d19df983ece1f"
  },
  {
   "cell_type": "code",
   "execution_count": 49,
   "outputs": [
    {
     "data": {
      "text/plain": "inf"
     },
     "execution_count": 49,
     "metadata": {},
     "output_type": "execute_result"
    }
   ],
   "source": [
    "sewar.psnr(image.astype(np.uint8), ref_image.astype(np.uint8))"
   ],
   "metadata": {
    "collapsed": false,
    "ExecuteTime": {
     "end_time": "2024-01-11T20:08:35.127818100Z",
     "start_time": "2024-01-11T20:08:35.104664400Z"
    }
   },
   "id": "f4a99d7bd9caeb82"
  },
  {
   "cell_type": "code",
   "execution_count": 50,
   "outputs": [],
   "source": [
    "image_path = r'C:\\Users\\c4s23\\YandexDisk\\GitHub\\ImageQualityCheck\\data\\TID2013\\distorted_images\\i01_15_1.bmp'"
   ],
   "metadata": {
    "collapsed": false,
    "ExecuteTime": {
     "end_time": "2024-01-11T20:09:43.134462400Z",
     "start_time": "2024-01-11T20:09:43.119760Z"
    }
   },
   "id": "1d9c10890af96f17"
  },
  {
   "cell_type": "code",
   "execution_count": 51,
   "outputs": [],
   "source": [
    "ref_image_path = r'C:\\Users\\c4s23\\YandexDisk\\GitHub\\ImageQualityCheck\\data\\TID2013\\reference_images\\I01.BMP'"
   ],
   "metadata": {
    "collapsed": false,
    "ExecuteTime": {
     "end_time": "2024-01-11T20:10:02.624262400Z",
     "start_time": "2024-01-11T20:10:02.615750900Z"
    }
   },
   "id": "46b9664fd7bff71"
  },
  {
   "cell_type": "code",
   "execution_count": 52,
   "outputs": [],
   "source": [
    "image = plt.imread(image_path)"
   ],
   "metadata": {
    "collapsed": false,
    "ExecuteTime": {
     "end_time": "2024-01-11T20:10:07.938589300Z",
     "start_time": "2024-01-11T20:10:07.908238200Z"
    }
   },
   "id": "786634a207a5f6de"
  },
  {
   "cell_type": "code",
   "execution_count": 54,
   "outputs": [],
   "source": [
    "ref_image = plt.imread(ref_image_path)"
   ],
   "metadata": {
    "collapsed": false,
    "ExecuteTime": {
     "end_time": "2024-01-11T20:10:19.551259100Z",
     "start_time": "2024-01-11T20:10:19.539385700Z"
    }
   },
   "id": "a9b11c1bf3d50445"
  },
  {
   "cell_type": "code",
   "execution_count": 55,
   "outputs": [
    {
     "data": {
      "text/plain": "26.903508906451155"
     },
     "execution_count": 55,
     "metadata": {},
     "output_type": "execute_result"
    }
   ],
   "source": [
    "sewar.psnr(image, ref_image)"
   ],
   "metadata": {
    "collapsed": false,
    "ExecuteTime": {
     "end_time": "2024-01-11T20:10:21.599562600Z",
     "start_time": "2024-01-11T20:10:21.574234100Z"
    }
   },
   "id": "a926dba7ca53cd5"
  },
  {
   "cell_type": "code",
   "execution_count": 67,
   "outputs": [],
   "source": [
    "import io\n",
    "from PIL import Image\n",
    "\n",
    "with Image.open(image_path) as img:\n",
    "    bio = io.BytesIO()\n",
    "    img.save(bio, format='bmp')\n",
    "    \n",
    "    \n",
    "with Image.open(ref_image_path) as img:\n",
    "    ref_bio = io.BytesIO()\n",
    "    img.save(ref_bio, format='bmp')"
   ],
   "metadata": {
    "collapsed": false,
    "ExecuteTime": {
     "end_time": "2024-01-11T20:19:11.037097100Z",
     "start_time": "2024-01-11T20:19:11.025902900Z"
    }
   },
   "id": "1f4bec436c28d8d9"
  },
  {
   "cell_type": "code",
   "execution_count": 76,
   "outputs": [],
   "source": [
    "image = Image.open(bio)\n",
    "ref_image = Image.open(ref_bio)"
   ],
   "metadata": {
    "collapsed": false,
    "ExecuteTime": {
     "end_time": "2024-01-11T20:36:27.751732200Z",
     "start_time": "2024-01-11T20:36:27.743213200Z"
    }
   },
   "id": "220edfcda31541a0"
  },
  {
   "cell_type": "code",
   "execution_count": 78,
   "outputs": [
    {
     "data": {
      "text/plain": "26.903508906451155"
     },
     "execution_count": 78,
     "metadata": {},
     "output_type": "execute_result"
    }
   ],
   "source": [
    "sewar.psnr(np.array(image), np.array(ref_image))"
   ],
   "metadata": {
    "collapsed": false,
    "ExecuteTime": {
     "end_time": "2024-01-11T20:44:52.741299600Z",
     "start_time": "2024-01-11T20:44:52.690783800Z"
    }
   },
   "id": "3a97e5ed4448de9c"
  },
  {
   "cell_type": "code",
   "execution_count": 79,
   "outputs": [
    {
     "data": {
      "text/plain": "dict_keys(['MSE', 'RMSE', 'PSNR', 'SSIM', 'UQI', 'MS-SSIM', 'ERGAS', 'SCC', 'RASE', 'SAM', 'D_lambda', 'D_S', 'QNR', 'VIFp', 'PSNR-B'])"
     },
     "execution_count": 79,
     "metadata": {},
     "output_type": "execute_result"
    }
   ],
   "source": [
    "dict = {\n",
    "    \"MSE\": sewar.mse,\n",
    "    \"RMSE\": sewar.rmse,\n",
    "    \"PSNR\": sewar.psnr,\n",
    "    \"SSIM\": sewar.ssim,\n",
    "    \"UQI\": sewar.uqi,\n",
    "    \"MS-SSIM\": sewar.msssim,\n",
    "    \"ERGAS\": sewar.ergas,\n",
    "    \"SCC\": sewar.scc,\n",
    "    \"RASE\": sewar.rase,\n",
    "    \"SAM\": sewar.sam,\n",
    "    \"D_lambda\": sewar.d_lambda,\n",
    "    \"D_S\": sewar.d_s,\n",
    "    \"QNR\": sewar.qnr,\n",
    "    \"VIFp\": sewar.vifp,\n",
    "    \"PSNR-B\": sewar.psnrb\n",
    "}\n",
    "\n",
    "dict.keys()"
   ],
   "metadata": {
    "collapsed": false,
    "ExecuteTime": {
     "end_time": "2024-01-11T20:46:25.729634800Z",
     "start_time": "2024-01-11T20:46:25.711465800Z"
    }
   },
   "id": "ce0431fe2dd03783"
  },
  {
   "cell_type": "code",
   "execution_count": null,
   "outputs": [],
   "source": [],
   "metadata": {
    "collapsed": false
   },
   "id": "387e039e99b8ad92"
  }
 ],
 "metadata": {
  "kernelspec": {
   "display_name": "Python 3",
   "language": "python",
   "name": "python3"
  },
  "language_info": {
   "codemirror_mode": {
    "name": "ipython",
    "version": 2
   },
   "file_extension": ".py",
   "mimetype": "text/x-python",
   "name": "python",
   "nbconvert_exporter": "python",
   "pygments_lexer": "ipython2",
   "version": "2.7.6"
  }
 },
 "nbformat": 4,
 "nbformat_minor": 5
}
