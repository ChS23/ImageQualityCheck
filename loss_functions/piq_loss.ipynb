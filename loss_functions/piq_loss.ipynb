{
 "cells": [
  {
   "cell_type": "code",
   "execution_count": 1,
   "id": "initial_id",
   "metadata": {
    "collapsed": true,
    "ExecuteTime": {
     "end_time": "2024-01-11T15:38:49.404552Z",
     "start_time": "2024-01-11T15:38:49.401038200Z"
    }
   },
   "outputs": [],
   "source": [
    "# !pip install piq"
   ]
  },
  {
   "cell_type": "code",
   "execution_count": 2,
   "outputs": [],
   "source": [
    "import torch\n",
    "import matplotlib.pyplot as plt\n",
    "import numpy as np\n",
    "import piq \n",
    "import sys\n",
    "from torch.utils.data import DataLoader\n",
    "\n",
    "from datasets import TID2013Dataset\n",
    "from utils.compute_loss import compute_loss"
   ],
   "metadata": {
    "collapsed": false,
    "ExecuteTime": {
     "end_time": "2024-01-11T15:38:52.930072700Z",
     "start_time": "2024-01-11T15:38:49.818682Z"
    }
   },
   "id": "7f726a332ea6c4a0"
  },
  {
   "cell_type": "code",
   "execution_count": 3,
   "outputs": [],
   "source": [
    "device = torch.device('cuda' if torch.cuda.is_available() else 'cpu')"
   ],
   "metadata": {
    "collapsed": false,
    "ExecuteTime": {
     "end_time": "2024-01-11T15:38:53.989443900Z",
     "start_time": "2024-01-11T15:38:53.976423800Z"
    }
   },
   "id": "9831005b4ed1d177"
  },
  {
   "cell_type": "code",
   "execution_count": 4,
   "outputs": [],
   "source": [
    "ROOT_DIR = r'C:\\Users\\c4s23\\YandexDisk\\GitHub\\ImageQualityCheck\\data\\TID2013'"
   ],
   "metadata": {
    "collapsed": false,
    "ExecuteTime": {
     "end_time": "2024-01-11T15:38:54.836652200Z",
     "start_time": "2024-01-11T15:38:54.829647Z"
    }
   },
   "id": "aa7d7f760756e7b7"
  },
  {
   "cell_type": "markdown",
   "source": [
    "Загрузка dataset'а"
   ],
   "metadata": {
    "collapsed": false
   },
   "id": "ec610f71c84dae1a"
  },
  {
   "cell_type": "code",
   "execution_count": 5,
   "outputs": [],
   "source": [
    "dataset = TID2013Dataset(ROOT_DIR)"
   ],
   "metadata": {
    "collapsed": false,
    "ExecuteTime": {
     "end_time": "2024-01-11T15:39:06.972120200Z",
     "start_time": "2024-01-11T15:38:56.087254Z"
    }
   },
   "id": "9d718d25b133609a"
  },
  {
   "cell_type": "markdown",
   "source": [
    "Создаю dataloader"
   ],
   "metadata": {
    "collapsed": false
   },
   "id": "54cf2d8ffd26d6d1"
  },
  {
   "cell_type": "code",
   "execution_count": 6,
   "outputs": [],
   "source": [
    "dataloader = DataLoader(dataset, batch_size=128, shuffle=False)"
   ],
   "metadata": {
    "collapsed": false,
    "ExecuteTime": {
     "end_time": "2024-01-11T15:39:07.035338900Z",
     "start_time": "2024-01-11T15:39:07.033341600Z"
    }
   },
   "id": "cef57df03a4a71fc"
  },
  {
   "cell_type": "code",
   "execution_count": 7,
   "outputs": [],
   "source": [
    "image, ref_image = next(iter(dataloader))[0][0], next(iter(dataloader))[0][1]"
   ],
   "metadata": {
    "collapsed": false,
    "ExecuteTime": {
     "end_time": "2024-01-11T15:39:09.012576100Z",
     "start_time": "2024-01-11T15:39:08.301427500Z"
    }
   },
   "id": "cf49c1d925822533"
  },
  {
   "cell_type": "markdown",
   "source": [
    "PSNR"
   ],
   "metadata": {
    "collapsed": false
   },
   "id": "83fba9763ae65290"
  },
  {
   "cell_type": "code",
   "execution_count": 20,
   "outputs": [
    {
     "name": "stderr",
     "output_type": "stream",
     "text": [
      "100%|██████████| 24/24 [00:23<00:00,  1.02it/s]\n"
     ]
    },
    {
     "data": {
      "text/plain": "26.836421569188435"
     },
     "execution_count": 20,
     "metadata": {},
     "output_type": "execute_result"
    }
   ],
   "source": [
    "compute_loss(dataloader, piq.psnr, device)"
   ],
   "metadata": {
    "collapsed": false,
    "ExecuteTime": {
     "end_time": "2024-01-10T19:07:10.007544200Z",
     "start_time": "2024-01-10T19:06:46.323389800Z"
    }
   },
   "id": "ae9090fb5aeaafb8"
  },
  {
   "cell_type": "markdown",
   "source": [
    "SSIM"
   ],
   "metadata": {
    "collapsed": false
   },
   "id": "b4431fc518deddbc"
  },
  {
   "cell_type": "code",
   "execution_count": 21,
   "outputs": [
    {
     "name": "stderr",
     "output_type": "stream",
     "text": [
      "100%|██████████| 24/24 [00:40<00:00,  1.68s/it]\n"
     ]
    },
    {
     "data": {
      "text/plain": "0.8703272665540377"
     },
     "execution_count": 21,
     "metadata": {},
     "output_type": "execute_result"
    }
   ],
   "source": [
    "compute_loss(dataloader, piq.ssim, device)"
   ],
   "metadata": {
    "collapsed": false,
    "ExecuteTime": {
     "end_time": "2024-01-10T19:07:50.499106900Z",
     "start_time": "2024-01-10T19:07:10.048054900Z"
    }
   },
   "id": "ed0a0454f6ab040d"
  },
  {
   "cell_type": "markdown",
   "source": [
    "MS-SSIM"
   ],
   "metadata": {
    "collapsed": false
   },
   "id": "46c946635441e6d"
  },
  {
   "cell_type": "code",
   "execution_count": 24,
   "outputs": [
    {
     "name": "stderr",
     "output_type": "stream",
     "text": [
      "100%|██████████| 24/24 [03:21<00:00,  8.38s/it]\n"
     ]
    },
    {
     "data": {
      "text/plain": "0.922605444987615"
     },
     "execution_count": 24,
     "metadata": {},
     "output_type": "execute_result"
    }
   ],
   "source": [
    "compute_loss(dataloader, piq.multi_scale_ssim, device)"
   ],
   "metadata": {
    "collapsed": false,
    "ExecuteTime": {
     "end_time": "2024-01-10T19:11:43.711583700Z",
     "start_time": "2024-01-10T19:08:22.606467600Z"
    }
   },
   "id": "e8f42751ec3e0d49"
  },
  {
   "cell_type": "markdown",
   "source": [
    "IW-SSIM"
   ],
   "metadata": {
    "collapsed": false
   },
   "id": "c86a347c07c36eeb"
  },
  {
   "cell_type": "code",
   "execution_count": 25,
   "outputs": [
    {
     "name": "stderr",
     "output_type": "stream",
     "text": [
      "100%|██████████| 24/24 [05:46<00:00, 14.45s/it]\n"
     ]
    },
    {
     "data": {
      "text/plain": "0.9284583056966463"
     },
     "execution_count": 25,
     "metadata": {},
     "output_type": "execute_result"
    }
   ],
   "source": [
    "compute_loss(dataloader, piq.information_weighted_ssim, device)"
   ],
   "metadata": {
    "collapsed": false,
    "ExecuteTime": {
     "end_time": "2024-01-10T19:17:30.538976600Z",
     "start_time": "2024-01-10T19:11:43.749586100Z"
    }
   },
   "id": "5405d2beb6916775"
  },
  {
   "cell_type": "markdown",
   "source": [
    "VIFp"
   ],
   "metadata": {
    "collapsed": false
   },
   "id": "5f66926c09dd6667"
  },
  {
   "cell_type": "code",
   "execution_count": 26,
   "outputs": [
    {
     "name": "stderr",
     "output_type": "stream",
     "text": [
      "100%|██████████| 24/24 [02:22<00:00,  5.92s/it]\n"
     ]
    },
    {
     "data": {
      "text/plain": "0.5569954266150793"
     },
     "execution_count": 26,
     "metadata": {},
     "output_type": "execute_result"
    }
   ],
   "source": [
    "compute_loss(dataloader, piq.vif_p, device)"
   ],
   "metadata": {
    "collapsed": false,
    "ExecuteTime": {
     "end_time": "2024-01-10T19:19:52.640720600Z",
     "start_time": "2024-01-10T19:17:30.565477900Z"
    }
   },
   "id": "990e00ee2de17bda"
  },
  {
   "cell_type": "markdown",
   "source": [
    "FSIM"
   ],
   "metadata": {
    "collapsed": false
   },
   "id": "2cb8425b38d325a5"
  },
  {
   "cell_type": "code",
   "execution_count": 27,
   "outputs": [
    {
     "name": "stderr",
     "output_type": "stream",
     "text": [
      "100%|██████████| 24/24 [02:21<00:00,  5.90s/it]\n"
     ]
    },
    {
     "data": {
      "text/plain": "0.9452903444568316"
     },
     "execution_count": 27,
     "metadata": {},
     "output_type": "execute_result"
    }
   ],
   "source": [
    "compute_loss(dataloader, piq.fsim, device)"
   ],
   "metadata": {
    "collapsed": false,
    "ExecuteTime": {
     "end_time": "2024-01-10T19:22:14.343160Z",
     "start_time": "2024-01-10T19:19:52.654224700Z"
    }
   },
   "id": "7ae7334b34955324"
  },
  {
   "cell_type": "markdown",
   "source": [
    "SR-SIM"
   ],
   "metadata": {
    "collapsed": false
   },
   "id": "61e037bb19ecfe2f"
  },
  {
   "cell_type": "code",
   "execution_count": 28,
   "outputs": [
    {
     "name": "stderr",
     "output_type": "stream",
     "text": [
      "100%|██████████| 24/24 [00:41<00:00,  1.74s/it]\n"
     ]
    },
    {
     "data": {
      "text/plain": "0.9621476605534554"
     },
     "execution_count": 28,
     "metadata": {},
     "output_type": "execute_result"
    }
   ],
   "source": [
    "compute_loss(dataloader, piq.srsim, device)"
   ],
   "metadata": {
    "collapsed": false,
    "ExecuteTime": {
     "end_time": "2024-01-10T19:22:56.148047700Z",
     "start_time": "2024-01-10T19:22:14.350161300Z"
    }
   },
   "id": "3dbb1d964080c94f"
  },
  {
   "cell_type": "markdown",
   "source": [
    "GMSD"
   ],
   "metadata": {
    "collapsed": false
   },
   "id": "734b4c851d7d9c19"
  },
  {
   "cell_type": "code",
   "execution_count": 29,
   "outputs": [
    {
     "name": "stderr",
     "output_type": "stream",
     "text": [
      "100%|██████████| 24/24 [00:20<00:00,  1.15it/s]\n"
     ]
    },
    {
     "data": {
      "text/plain": "0.06873794163887699"
     },
     "execution_count": 29,
     "metadata": {},
     "output_type": "execute_result"
    }
   ],
   "source": [
    "compute_loss(dataloader, piq.gmsd, device)"
   ],
   "metadata": {
    "collapsed": false,
    "ExecuteTime": {
     "end_time": "2024-01-10T19:23:17.048398300Z",
     "start_time": "2024-01-10T19:22:56.153049300Z"
    }
   },
   "id": "8c46c8a6b21c393d"
  },
  {
   "cell_type": "markdown",
   "source": [
    "MS-GMSD"
   ],
   "metadata": {
    "collapsed": false
   },
   "id": "f80b125b908e9057"
  },
  {
   "cell_type": "code",
   "execution_count": 30,
   "outputs": [
    {
     "name": "stderr",
     "output_type": "stream",
     "text": [
      "100%|██████████| 24/24 [00:44<00:00,  1.87s/it]\n"
     ]
    },
    {
     "data": {
      "text/plain": "0.07251735761140783"
     },
     "execution_count": 30,
     "metadata": {},
     "output_type": "execute_result"
    }
   ],
   "source": [
    "compute_loss(dataloader, piq.multi_scale_gmsd, device)"
   ],
   "metadata": {
    "collapsed": false,
    "ExecuteTime": {
     "end_time": "2024-01-10T19:24:01.870424200Z",
     "start_time": "2024-01-10T19:23:17.056400700Z"
    }
   },
   "id": "75bc919bd2892f10"
  },
  {
   "cell_type": "markdown",
   "source": [
    "VSI"
   ],
   "metadata": {
    "collapsed": false
   },
   "id": "5887659cd420e877"
  },
  {
   "cell_type": "code",
   "execution_count": 31,
   "outputs": [
    {
     "name": "stderr",
     "output_type": "stream",
     "text": [
      "100%|██████████| 24/24 [01:34<00:00,  3.95s/it]\n"
     ]
    },
    {
     "data": {
      "text/plain": "0.9799929931759834"
     },
     "execution_count": 31,
     "metadata": {},
     "output_type": "execute_result"
    }
   ],
   "source": [
    "compute_loss(dataloader, piq.vsi, device)"
   ],
   "metadata": {
    "collapsed": false,
    "ExecuteTime": {
     "end_time": "2024-01-10T19:25:36.653066600Z",
     "start_time": "2024-01-10T19:24:01.872425600Z"
    }
   },
   "id": "9a518a8e947f121d"
  },
  {
   "cell_type": "markdown",
   "source": [
    "DSS"
   ],
   "metadata": {
    "collapsed": false
   },
   "id": "6277bb277ab000d9"
  },
  {
   "cell_type": "code",
   "execution_count": 32,
   "outputs": [
    {
     "name": "stderr",
     "output_type": "stream",
     "text": [
      "100%|██████████| 24/24 [00:36<00:00,  1.50s/it]\n"
     ]
    },
    {
     "data": {
      "text/plain": "0.816979261736075"
     },
     "execution_count": 32,
     "metadata": {},
     "output_type": "execute_result"
    }
   ],
   "source": [
    "compute_loss(dataloader, piq.dss, device)"
   ],
   "metadata": {
    "collapsed": false,
    "ExecuteTime": {
     "end_time": "2024-01-10T19:26:12.744383400Z",
     "start_time": "2024-01-10T19:25:36.647051800Z"
    }
   },
   "id": "5e76ea7322a6cb0b"
  },
  {
   "cell_type": "markdown",
   "source": [
    "HaarPSI"
   ],
   "metadata": {
    "collapsed": false
   },
   "id": "c4ec673e2cf9ebdb"
  },
  {
   "cell_type": "code",
   "execution_count": 33,
   "outputs": [
    {
     "name": "stderr",
     "output_type": "stream",
     "text": [
      "100%|██████████| 24/24 [00:46<00:00,  1.93s/it]\n"
     ]
    },
    {
     "data": {
      "text/plain": "0.8105449949701627"
     },
     "execution_count": 33,
     "metadata": {},
     "output_type": "execute_result"
    }
   ],
   "source": [
    "compute_loss(dataloader, piq.haarpsi, device)"
   ],
   "metadata": {
    "collapsed": false,
    "ExecuteTime": {
     "end_time": "2024-01-10T19:26:59.051350400Z",
     "start_time": "2024-01-10T19:26:12.754384800Z"
    }
   },
   "id": "121117eb2f537db9"
  },
  {
   "cell_type": "markdown",
   "source": [
    "MDSI"
   ],
   "metadata": {
    "collapsed": false
   },
   "id": "3c6dff1506f1486c"
  },
  {
   "cell_type": "code",
   "execution_count": 34,
   "outputs": [
    {
     "name": "stderr",
     "output_type": "stream",
     "text": [
      "100%|██████████| 24/24 [00:34<00:00,  1.43s/it]\n"
     ]
    },
    {
     "data": {
      "text/plain": "0.28310942525664967"
     },
     "execution_count": 34,
     "metadata": {},
     "output_type": "execute_result"
    }
   ],
   "source": [
    "compute_loss(dataloader, piq.mdsi, device)"
   ],
   "metadata": {
    "collapsed": false,
    "ExecuteTime": {
     "end_time": "2024-01-10T19:27:33.409439700Z",
     "start_time": "2024-01-10T19:26:59.049349900Z"
    }
   },
   "id": "dc3027f89fd80e8f"
  },
  {
   "cell_type": "markdown",
   "source": [
    "LPIPS"
   ],
   "metadata": {
    "collapsed": false
   },
   "id": "120df362bd5df871"
  },
  {
   "cell_type": "code",
   "execution_count": null,
   "outputs": [],
   "source": [
    "piq.LPIPS()(image, ref_image)"
   ],
   "metadata": {
    "collapsed": false,
    "ExecuteTime": {
     "start_time": "2024-01-11T12:07:07.590669200Z"
    }
   },
   "id": "3fd394586aaef3dd"
  },
  {
   "cell_type": "code",
   "execution_count": null,
   "outputs": [
    {
     "name": "stderr",
     "output_type": "stream",
     "text": [
      "C:\\Users\\c4s23\\anaconda3\\Lib\\site-packages\\torchvision\\models\\_utils.py:208: UserWarning: The parameter 'pretrained' is deprecated since 0.13 and may be removed in the future, please use 'weights' instead.\n",
      "  warnings.warn(\n",
      "C:\\Users\\c4s23\\anaconda3\\Lib\\site-packages\\torchvision\\models\\_utils.py:223: UserWarning: Arguments other than a weight enum or `None` for 'weights' are deprecated since 0.13 and may be removed in the future. The current behavior is equivalent to passing `weights=VGG16_Weights.IMAGENET1K_V1`. You can also use `weights=VGG16_Weights.DEFAULT` to get the most up-to-date weights.\n",
      "  warnings.warn(msg)\n"
     ]
    }
   ],
   "source": [
    "for image, ref_image in dataloader:\n",
    "    print(piq.LPIPS()(image, ref_image))\n",
    "    break"
   ],
   "metadata": {
    "collapsed": false,
    "is_executing": true,
    "ExecuteTime": {
     "start_time": "2024-01-11T15:40:49.051304900Z"
    }
   },
   "id": "535ae50743b523f0"
  },
  {
   "cell_type": "code",
   "execution_count": null,
   "outputs": [],
   "source": [],
   "metadata": {
    "collapsed": false
   },
   "id": "42cce226a625013c"
  }
 ],
 "metadata": {
  "kernelspec": {
   "display_name": "Python 3",
   "language": "python",
   "name": "python3"
  },
  "language_info": {
   "codemirror_mode": {
    "name": "ipython",
    "version": 2
   },
   "file_extension": ".py",
   "mimetype": "text/x-python",
   "name": "python",
   "nbconvert_exporter": "python",
   "pygments_lexer": "ipython2",
   "version": "2.7.6"
  }
 },
 "nbformat": 4,
 "nbformat_minor": 5
}
