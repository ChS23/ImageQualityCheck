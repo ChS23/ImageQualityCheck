{
 "cells": [
  {
   "cell_type": "code",
   "execution_count": 23,
   "id": "initial_id",
   "metadata": {
    "collapsed": true,
    "ExecuteTime": {
     "end_time": "2024-01-13T22:37:54.567583900Z",
     "start_time": "2024-01-13T22:37:54.555549600Z"
    }
   },
   "outputs": [],
   "source": [
    "import vk_api"
   ]
  },
  {
   "cell_type": "code",
   "execution_count": 32,
   "outputs": [],
   "source": [
    "vk_sessions = vk_api.VkApi(login='+79889727213',token='vk1.a.hkRkHiXyXAa5b6h4qeDgpFAp4sEmpGFyLvhp7D0QDoj81vW5k108TAVHBKNgsbNWyNwFgSpvZ3Nyj3sofDzR4xni4-0HNGEfeSbjD8OpuRoctSOD6YNHwts3kXoGzu3srxR3jRWbg1Ewoo2t1Ghrg-2IAXSsFrtof57vK94X7Krtef-ufcRYdpfS0ygTv-rtVCgZ8bLqqHdnjytx_41QAQ')"
   ],
   "metadata": {
    "collapsed": false,
    "ExecuteTime": {
     "end_time": "2024-01-13T22:38:27.872929100Z",
     "start_time": "2024-01-13T22:38:27.864886300Z"
    }
   },
   "id": "1b3f5c5afe388d15"
  },
  {
   "cell_type": "code",
   "execution_count": 33,
   "outputs": [],
   "source": [
    "vk_sessions.auth(token_only=True)"
   ],
   "metadata": {
    "collapsed": false,
    "ExecuteTime": {
     "end_time": "2024-01-13T22:38:28.225164500Z",
     "start_time": "2024-01-13T22:38:28.221655300Z"
    }
   },
   "id": "a5efeae3806e6420"
  },
  {
   "cell_type": "code",
   "execution_count": 34,
   "outputs": [],
   "source": [
    "vk = vk_sessions.get_api()"
   ],
   "metadata": {
    "collapsed": false,
    "ExecuteTime": {
     "end_time": "2024-01-13T22:38:28.416854Z",
     "start_time": "2024-01-13T22:38:28.413110200Z"
    }
   },
   "id": "2c57a10d28fbc98e"
  },
  {
   "cell_type": "code",
   "execution_count": 35,
   "outputs": [],
   "source": [
    "from vk_api import audio"
   ],
   "metadata": {
    "collapsed": false,
    "ExecuteTime": {
     "end_time": "2024-01-13T22:38:28.605373Z",
     "start_time": "2024-01-13T22:38:28.601365Z"
    }
   },
   "id": "6063f331daf35abe"
  },
  {
   "cell_type": "code",
   "execution_count": 36,
   "outputs": [
    {
     "ename": "ApiError",
     "evalue": "[5] User authorization failed: no access_token passed.",
     "output_type": "error",
     "traceback": [
      "\u001B[1;31m---------------------------------------------------------------------------\u001B[0m",
      "\u001B[1;31mApiError\u001B[0m                                  Traceback (most recent call last)",
      "Cell \u001B[1;32mIn[36], line 1\u001B[0m\n\u001B[1;32m----> 1\u001B[0m \u001B[43maudio\u001B[49m\u001B[38;5;241;43m.\u001B[39;49m\u001B[43mVkAudio\u001B[49m\u001B[43m(\u001B[49m\u001B[43mvk_sessions\u001B[49m\u001B[43m)\u001B[49m\u001B[38;5;241m.\u001B[39mget_audio_by_id(\n\u001B[0;32m      2\u001B[0m     owner_id\u001B[38;5;241m=\u001B[39m\u001B[38;5;241m-\u001B[39m\u001B[38;5;241m2001548442\u001B[39m,\n\u001B[0;32m      3\u001B[0m     audio_id\u001B[38;5;241m=\u001B[39m\u001B[38;5;241m108548442\u001B[39m,\n\u001B[0;32m      4\u001B[0m )\n",
      "File \u001B[1;32m~\\anaconda3\\Lib\\site-packages\\vk_api\\audio.py:81\u001B[0m, in \u001B[0;36mVkAudio.__init__\u001B[1;34m(self, vk, convert_m3u8_links)\u001B[0m\n\u001B[0;32m     80\u001B[0m \u001B[38;5;28;01mdef\u001B[39;00m \u001B[38;5;21m__init__\u001B[39m(\u001B[38;5;28mself\u001B[39m, vk, convert_m3u8_links\u001B[38;5;241m=\u001B[39m\u001B[38;5;28;01mTrue\u001B[39;00m):\n\u001B[1;32m---> 81\u001B[0m     \u001B[38;5;28mself\u001B[39m\u001B[38;5;241m.\u001B[39muser_id \u001B[38;5;241m=\u001B[39m \u001B[43mvk\u001B[49m\u001B[38;5;241;43m.\u001B[39;49m\u001B[43mmethod\u001B[49m\u001B[43m(\u001B[49m\u001B[38;5;124;43m'\u001B[39;49m\u001B[38;5;124;43musers.get\u001B[39;49m\u001B[38;5;124;43m'\u001B[39;49m\u001B[43m)\u001B[49m[\u001B[38;5;241m0\u001B[39m][\u001B[38;5;124m'\u001B[39m\u001B[38;5;124mid\u001B[39m\u001B[38;5;124m'\u001B[39m]\n\u001B[0;32m     82\u001B[0m     \u001B[38;5;28mself\u001B[39m\u001B[38;5;241m.\u001B[39m_vk \u001B[38;5;241m=\u001B[39m vk\n\u001B[0;32m     83\u001B[0m     \u001B[38;5;28mself\u001B[39m\u001B[38;5;241m.\u001B[39mconvert_m3u8_links \u001B[38;5;241m=\u001B[39m convert_m3u8_links\n",
      "File \u001B[1;32m~\\anaconda3\\Lib\\site-packages\\vk_api\\vk_api.py:697\u001B[0m, in \u001B[0;36mVkApi.method\u001B[1;34m(self, method, values, captcha_sid, captcha_key, raw)\u001B[0m\n\u001B[0;32m    694\u001B[0m         \u001B[38;5;28;01mif\u001B[39;00m response \u001B[38;5;129;01mis\u001B[39;00m \u001B[38;5;129;01mnot\u001B[39;00m \u001B[38;5;28;01mNone\u001B[39;00m:\n\u001B[0;32m    695\u001B[0m             \u001B[38;5;28;01mreturn\u001B[39;00m response\n\u001B[1;32m--> 697\u001B[0m     \u001B[38;5;28;01mraise\u001B[39;00m error\n\u001B[0;32m    699\u001B[0m \u001B[38;5;28;01mreturn\u001B[39;00m response \u001B[38;5;28;01mif\u001B[39;00m raw \u001B[38;5;28;01melse\u001B[39;00m response[\u001B[38;5;124m'\u001B[39m\u001B[38;5;124mresponse\u001B[39m\u001B[38;5;124m'\u001B[39m]\n",
      "\u001B[1;31mApiError\u001B[0m: [5] User authorization failed: no access_token passed."
     ]
    }
   ],
   "source": [
    "audio.VkAudio(vk_sessions).get_audio_by_id(\n",
    "    owner_id=-2001548442,\n",
    "    audio_id=108548442,\n",
    ")"
   ],
   "metadata": {
    "collapsed": false,
    "ExecuteTime": {
     "end_time": "2024-01-13T22:38:29.579317700Z",
     "start_time": "2024-01-13T22:38:28.925127400Z"
    }
   },
   "id": "e7fdd6c8dd2aa327"
  },
  {
   "cell_type": "code",
   "execution_count": null,
   "outputs": [],
   "source": [],
   "metadata": {
    "collapsed": false
   },
   "id": "f4f92a0f41eaac7c"
  }
 ],
 "metadata": {
  "kernelspec": {
   "display_name": "Python 3",
   "language": "python",
   "name": "python3"
  },
  "language_info": {
   "codemirror_mode": {
    "name": "ipython",
    "version": 2
   },
   "file_extension": ".py",
   "mimetype": "text/x-python",
   "name": "python",
   "nbconvert_exporter": "python",
   "pygments_lexer": "ipython2",
   "version": "2.7.6"
  }
 },
 "nbformat": 4,
 "nbformat_minor": 5
}
